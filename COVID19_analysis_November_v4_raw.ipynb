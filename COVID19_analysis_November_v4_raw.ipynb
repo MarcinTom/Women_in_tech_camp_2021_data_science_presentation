{
 "cells": [
  {
   "cell_type": "code",
   "execution_count": null,
   "id": "3e294747",
   "metadata": {
    "scrolled": true
   },
   "outputs": [],
   "source": [
    "!pip install pywaffle\n",
    "!pip install circlify\n",
    "!pip install calmap\n",
    "!pip install -U kaleido\n",
    "!pip install pytrends\n",
    "!pip install pyramid-arima"
   ]
  },
  {
   "cell_type": "code",
   "execution_count": null,
   "id": "fca21753",
   "metadata": {},
   "outputs": [],
   "source": [
    "# Hide/Unhide your raw input code to focus only on results\n",
    "from IPython.display import HTML\n",
    "\n",
    "HTML('''<script>\n",
    "code_show=true; \n",
    "function code_toggle() {\n",
    " if (code_show){\n",
    " $('div.input').hide();\n",
    " } else {\n",
    " $('div.input').show();\n",
    " }\n",
    " code_show = !code_show\n",
    "} \n",
    "$( document ).ready(code_toggle);\n",
    "</script>\n",
    "<form action=\"javascript:code_toggle()\"><input type=\"submit\" value=\"Hide/Unhide code\"></form>''')"
   ]
  },
  {
   "cell_type": "markdown",
   "id": "587cd519",
   "metadata": {},
   "source": [
    "# Temat prezentacji: Jak Data Science może pomóc w walce z pandemia? Analiza trendów i zależności na podstawie danych dotyczących COVID-19"
   ]
  },
  {
   "cell_type": "markdown",
   "id": "61b517bd",
   "metadata": {},
   "source": [
    "# Agenda<br>\n",
    "<font size=\"4\">\n",
    "1. Wprowadzenie<br>\n",
    "2. Przedstawienie danych<br>\n",
    "3. Analiza zachorowan (Świat / Polska)<br>\n",
    "4. Analiza szczepień w Polsce i w innych krajach<br>\n",
    "5. Google Trends a koronawirus<br>\n",
    "6. Koronawirus a bogactwo i szczęście narodów :)<br>\n",
    "7. Modelowanie i prognoza nowych zachorowań<br>\n",
    "8. Q&A<font>"
   ]
  },
  {
   "cell_type": "markdown",
   "id": "cc537a88",
   "metadata": {},
   "source": [
    "# 1. Wprowadzenie"
   ]
  },
  {
   "cell_type": "markdown",
   "id": "09756daf",
   "metadata": {},
   "source": [
    "### Kilka słów o NatWest"
   ]
  },
  {
   "cell_type": "markdown",
   "id": "3c031f44",
   "metadata": {},
   "source": [
    "![NatWest](https://upload.wikimedia.org/wikipedia/commons/8/87/Natwest-logo.jpg)"
   ]
  },
  {
   "cell_type": "markdown",
   "id": "c1f21c4c",
   "metadata": {},
   "source": [
    "<font size=\"4\">National Westminster Bank jest częścią grupy NatWest Group, która jest jedną z największych instytucji finansowych w Wielkiej Brytanii.<br>\n",
    "    <br>\n",
    "**[Informacje o NatWest](https://www.natwestgroup.com/who-we-are/worldwide-locations/rbs-international-branch-network/poland/nwg-global-hub-europe-pl.html)**\n",
    "    <br>\n",
    "    <br>\n",
    "**[Otwarte rekrutacje](https://jobs.natwestgroup.com/search/jobs)**<br><font>"
   ]
  },
  {
   "cell_type": "markdown",
   "id": "4c3db366",
   "metadata": {},
   "source": [
    "![DataScience](https://www.kdnuggets.com/wp-content/uploads/Fig1-Abisiga-top-10-lists-data-science.jpg)"
   ]
  },
  {
   "cell_type": "markdown",
   "id": "d8fbe27e",
   "metadata": {},
   "source": [
    "### COVID-19\n",
    "<font size=\"4\">COVID-19 (od ang. coronavirus disease 2019) – ostra choroba zakaźna układu oddechowego wywołana zakażeniem wirusem SARS-CoV-2. Została po raz pierwszy rozpoznana i opisana w listopadzie 2019, w środkowych Chinach (miasto Wuhan, w prowincji Hubei) podczas serii zachorowań zapoczątkowujących pandemię tej choroby \n",
    "Na dzień 31 października 2021, zindetyfikowano **259 milionów przypadków**  i ponad **5 milionów śmierci**.<br><font>"
   ]
  },
  {
   "cell_type": "markdown",
   "id": "bef8ea8c",
   "metadata": {},
   "source": [
    "![Covid19](https://upload.wikimedia.org/wikipedia/commons/thumb/9/96/3D_medical_animation_coronavirus_structure.jpg/1200px-3D_medical_animation_coronavirus_structure.jpg)\n",
    "Image credits: [Wikimedia.org](http://commons.wikimedia.org/)"
   ]
  },
  {
   "cell_type": "markdown",
   "id": "7c1af660",
   "metadata": {},
   "source": [
    "# 2. Przedstawienie danych"
   ]
  },
  {
   "cell_type": "code",
   "execution_count": null,
   "id": "59c724db",
   "metadata": {
    "scrolled": true
   },
   "outputs": [],
   "source": [
    "# Data analysis\n",
    "import numpy as np\n",
    "import pandas as pd\n",
    "\n",
    "# Add a comma and keep to two d.p. in df columns\n",
    "pd.options.display.float_format = '{:,.2f}'.format\n",
    "\n",
    "# Visualization\n",
    "import calmap\n",
    "import circlify\n",
    "import matplotlib.dates as mdates\n",
    "import matplotlib.patches as mpatches\n",
    "import matplotlib.pyplot as plt\n",
    "import matplotlib.ticker as ticker\n",
    "%matplotlib inline\n",
    "import plotly\n",
    "import plotly.express as px\n",
    "import plotly.graph_objects as go\n",
    "from plotly.subplots import make_subplots\n",
    "from pywaffle import Waffle\n",
    "import seaborn as sns\n",
    "\n",
    "# Text transformation\n",
    "import datetime as dt\n",
    "from datetime import timedelta\n",
    "from textwrap import wrap\n",
    "import random\n",
    "\n",
    "# Switiching off warnings\n",
    "import warnings\n",
    "warnings.filterwarnings('ignore')\n",
    "\n",
    "\n",
    "# Statistical modelling\n",
    "from sklearn.metrics import mean_squared_error\n",
    "import six\n",
    "import sys\n",
    "sys.modules['sklearn.externals.six'] = six\n",
    "import joblib\n",
    "sys.modules['sklearn.externals.joblib'] = joblib\n",
    "from pyramid.arima import auto_arima"
   ]
  },
  {
   "cell_type": "markdown",
   "id": "366581e5",
   "metadata": {},
   "source": [
    "### Import danych"
   ]
  },
  {
   "cell_type": "markdown",
   "id": "a4ef52b1",
   "metadata": {},
   "source": [
    "Dane dostepne: \n",
    "* https://ourworldindata.org/ \n",
    "* https://github.com/owid/covid-19-data/tree/master/public/data\n",
    "* https://www.kaggle.com/unsdsn/world-happiness"
   ]
  },
  {
   "cell_type": "code",
   "execution_count": null,
   "id": "f5a2efeb",
   "metadata": {},
   "outputs": [],
   "source": [
    "world_data = pd.read_csv('owid-covid-data_nov.csv')\n",
    "vaccinations_data = pd.read_csv('country_vaccinations_nov.csv')\n",
    "vaccinations_per_manu = pd.read_csv('country_vaccinations_by_manufacturer_nov.csv')\n",
    "whr_2019 = pd.read_csv('whr_2019.csv')"
   ]
  },
  {
   "cell_type": "code",
   "execution_count": null,
   "id": "0b288eef",
   "metadata": {},
   "outputs": [],
   "source": [
    "print(f'Wymiary tabeli world_data to: {world_data.shape[0]} wierszy i {world_data.shape[1]} kolumn')\n",
    "print(f'Wymiary tabeli vaccinations_data to: {vaccinations_data.shape[0]} wierszy i {vaccinations_data.shape[1]} kolumn')\n",
    "print(f'Wymiary tabeli vaccinations_per_manu to: {vaccinations_per_manu.shape[0]} wierszy i {vaccinations_per_manu.shape[1]} kolumn')\n",
    "print(f'Wymiary tabeli world_happiness_report_2019 to: {whr_2019.shape[0]} wierszy i {whr_2019.shape[1]} kolumn')"
   ]
  },
  {
   "cell_type": "markdown",
   "id": "8a37ca47",
   "metadata": {},
   "source": [
    "![alt text](https://dylancastillo.co/content/images/2021/07/logo_article.jpg)"
   ]
  },
  {
   "cell_type": "markdown",
   "id": "76ff4fbe",
   "metadata": {},
   "source": [
    "### Procesowanie danych"
   ]
  },
  {
   "cell_type": "code",
   "execution_count": null,
   "id": "1f52efb3",
   "metadata": {},
   "outputs": [],
   "source": [
    "# Convert date to datetime\n",
    "world_data['date'] = pd.to_datetime(world_data['date'], format='%Y-%m-%d', utc=False)\n",
    "vaccinations_data['date'] = pd.to_datetime(vaccinations_data['date'],format='%Y-%m-%d', utc=False)\n",
    "vaccinations_per_manu['date'] = pd.to_datetime(vaccinations_per_manu['date'],format='%Y-%m-%d', utc=False)"
   ]
  },
  {
   "cell_type": "code",
   "execution_count": null,
   "id": "e90f34b7",
   "metadata": {},
   "outputs": [],
   "source": [
    "# Restricting data to 30th of November\n",
    "world_data = world_data[world_data['date']<='2021-11-30']\n",
    "vaccinations_data = vaccinations_data[vaccinations_data['date']<='2021-11-30']\n",
    "vaccinations_per_manu = vaccinations_per_manu[vaccinations_per_manu['date']<='2021-11-30']"
   ]
  },
  {
   "cell_type": "code",
   "execution_count": null,
   "id": "4ca18423",
   "metadata": {},
   "outputs": [],
   "source": [
    "# Using date as an index in df\n",
    "world_data.index = world_data['date']\n",
    "vaccinations_data.index = vaccinations_data['date']\n",
    "vaccinations_per_manu.index = vaccinations_per_manu['date']"
   ]
  },
  {
   "cell_type": "code",
   "execution_count": null,
   "id": "c0f07fda",
   "metadata": {},
   "outputs": [],
   "source": [
    "# Calculating % of vaccinated\n",
    "world_data['people_vaccinated_per'] = world_data['people_vaccinated']/world_data['population']*100\n",
    "world_data['people_fully_vaccinated_per'] = world_data['people_fully_vaccinated']/world_data['population']*100"
   ]
  },
  {
   "cell_type": "code",
   "execution_count": null,
   "id": "ffa790c5",
   "metadata": {},
   "outputs": [],
   "source": [
    "# Poland stats from world_data\n",
    "pl_stats = world_data[world_data.location=='Poland']"
   ]
  },
  {
   "cell_type": "code",
   "execution_count": null,
   "id": "ace63c2f",
   "metadata": {},
   "outputs": [],
   "source": [
    "# Poland stats about vaccines\n",
    "pl_vac_per_manu = vaccinations_per_manu[vaccinations_per_manu.location=='Poland']"
   ]
  },
  {
   "cell_type": "markdown",
   "id": "af4c14af",
   "metadata": {},
   "source": [
    "#### Worldwide Covid data"
   ]
  },
  {
   "cell_type": "code",
   "execution_count": null,
   "id": "64677b73",
   "metadata": {
    "scrolled": false
   },
   "outputs": [],
   "source": [
    "world_data.head()"
   ]
  },
  {
   "cell_type": "markdown",
   "id": "e492a19f",
   "metadata": {},
   "source": [
    "#### Vaccinations per country"
   ]
  },
  {
   "cell_type": "code",
   "execution_count": null,
   "id": "f41150bf",
   "metadata": {},
   "outputs": [],
   "source": [
    "vaccinations_data.head()"
   ]
  },
  {
   "cell_type": "markdown",
   "id": "2f183790",
   "metadata": {},
   "source": [
    "#### Vaccinations per manufacturer"
   ]
  },
  {
   "cell_type": "code",
   "execution_count": null,
   "id": "a9b092ab",
   "metadata": {},
   "outputs": [],
   "source": [
    "vaccinations_per_manu.head()"
   ]
  },
  {
   "cell_type": "markdown",
   "id": "124db30e",
   "metadata": {},
   "source": [
    "#### World Happiness Report 2019"
   ]
  },
  {
   "cell_type": "code",
   "execution_count": null,
   "id": "6df1e53d",
   "metadata": {},
   "outputs": [],
   "source": [
    "whr_2019.head()"
   ]
  },
  {
   "cell_type": "markdown",
   "id": "85d34ab5",
   "metadata": {},
   "source": [
    "# 3. Analiza zachorowan (Świat / Polska)"
   ]
  },
  {
   "cell_type": "markdown",
   "id": "4f501d63",
   "metadata": {},
   "source": [
    "## Świat"
   ]
  },
  {
   "cell_type": "code",
   "execution_count": null,
   "id": "0ab99132",
   "metadata": {},
   "outputs": [],
   "source": [
    "# Define the color scheme\n",
    "dark_pl = '#003078'\n",
    "pl = '#1d70b8'\n",
    "\n",
    "blue = '#2800D7'\n",
    "others = 'lightgray'\n",
    "background_color = \"#fafafa\"\n",
    "\n",
    "\n",
    "#Date stamp for the graphs\n",
    "data_date = dt.date(2021, 11, 30)"
   ]
  },
  {
   "cell_type": "code",
   "execution_count": null,
   "id": "76df3993",
   "metadata": {},
   "outputs": [],
   "source": [
    "# Extracting latest data\n",
    "world_data_latest = world_data[world_data['date']=='2021-11-30']\n",
    "world_data_latest.dropna(subset=['continent'], inplace=True)"
   ]
  },
  {
   "cell_type": "code",
   "execution_count": null,
   "id": "18a6131c",
   "metadata": {},
   "outputs": [],
   "source": [
    "# Plotly chropleths\n",
    "fig = go.Figure(data=go.Choropleth(\n",
    "    locations = world_data_latest['location'],\n",
    "    locationmode='country names',\n",
    "    z = world_data_latest['total_cases'],\n",
    "    hovertemplate='%{z:,}<br>%{location}<extra></extra>',\n",
    "    colorscale = 'Blues',\n",
    "    marker_line_color='darkgray',\n",
    "    marker_line_width=0.5,\n",
    "    colorbar_title = 'Total<br>Cases',\n",
    "))\n",
    "\n",
    "fig.update_layout(\n",
    "    title_text='<b>World total cases<b>',\n",
    "#     title_font_family='serif',\n",
    "    title_x = 0.5,\n",
    "\n",
    "    titlefont={'size': 30}, paper_bgcolor=background_color,\n",
    "    geo=dict(\n",
    "        showframe=False,\n",
    "        showcoastlines=False,\n",
    "        projection_type='equirectangular'\n",
    "    )\n",
    ")\n",
    "\n",
    "fig.show(renderer='notebook')"
   ]
  },
  {
   "cell_type": "code",
   "execution_count": null,
   "id": "300525f8",
   "metadata": {},
   "outputs": [],
   "source": [
    "fig = go.Figure(data=go.Choropleth(\n",
    "    locations = world_data_latest['location'],\n",
    "    locationmode='country names',\n",
    "    z = world_data_latest['total_deaths'],\n",
    "    hovertemplate='%{z:,}<br>%{location}<extra></extra>',\n",
    "    colorscale = 'Blues',\n",
    "    marker_line_color='darkgray',\n",
    "    marker_line_width=0.5,\n",
    "    colorbar_title = 'Total<br>Cases',\n",
    "))\n",
    "\n",
    "\n",
    "fig.update_layout(\n",
    "    title_text='<b>World total deaths<b>',\n",
    "#     title_font_family='serif',\n",
    "    title_x = 0.5,\n",
    "    titlefont={'size': 30}, paper_bgcolor=background_color,\n",
    "    width=950,\n",
    "    height=1000,\n",
    "    geo=dict(\n",
    "        showframe=False,\n",
    "        showcoastlines=False,\n",
    "        projection_type='equirectangular'\n",
    "    )\n",
    ")\n",
    "fig.update_geos(projection_type=\"orthographic\")\n",
    "fig.show(renderer='notebook')"
   ]
  },
  {
   "cell_type": "code",
   "execution_count": null,
   "id": "2e821be2",
   "metadata": {},
   "outputs": [],
   "source": [
    "fig = go.Figure()\n",
    "\n",
    "df_dict={\n",
    "    \"Confirmed per mln\": world_data_latest['total_cases_per_million'],\n",
    "    \"Deaths per mln\": world_data_latest['total_deaths_per_million'],\n",
    "    \"New cases per million\": world_data_latest['new_cases_per_million']\n",
    "}\n",
    "for filter_name in ['Confirmed per mln', 'Deaths per mln', 'New cases per million']:\n",
    "                    fig.add_trace(go.Choropleth(locations = world_data_latest['location'],\n",
    "                                                locationmode='country names',\n",
    "                                                z = df_dict[filter_name],\n",
    "                                                hovertemplate='%{z:,.0f}<br>%{location}<extra></extra>',\n",
    "                                                colorscale = 'Blues',\n",
    "                                                marker_line_color='darkgray',\n",
    "                                                marker_line_width=0.5,\n",
    "                                                colorbar_title = 'Cases',\n",
    "                                                showscale=False,\n",
    "                                                visible=False\n",
    "                                               ))\n",
    "\n",
    "\n",
    "fig.update_layout(\n",
    "    title_text='<b># of cases<b>',\n",
    "    title_font_family='Arial',\n",
    "    title_x = 1,\n",
    "    titlefont={'size': 35}, paper_bgcolor=background_color,\n",
    "    width=950,\n",
    "    height=650,\n",
    "    autosize=False,\n",
    "    margin=dict(t=100, b=0, l=0, r=0),\n",
    ")\n",
    "\n",
    "# Update 3D scene options\n",
    "fig.update_scenes(\n",
    "    aspectratio=dict(x=1, y=1, z=0.7),\n",
    "    aspectmode=\"manual\"\n",
    ")\n",
    "\n",
    "# Add drowdowns\n",
    "button_layer_1_height = 1.2\n",
    "button_layer_2_height = 1.14\n",
    "button_layer_3_height = 1.06\n",
    "\n",
    "fig.update_layout(\n",
    "    updatemenus=[\n",
    "        dict(\n",
    "        buttons=list(\n",
    "            [dict(label = 'Confirmed per mln',\n",
    "                  method = 'update',\n",
    "                  args = [{'visible': [True, False, False]},\n",
    "                          {'title': 'Confirmed per mln',\n",
    "                           'showscale':True}]),\n",
    "             dict(label = 'Deaths per mln',\n",
    "                  method = 'update',\n",
    "                  args = [{'visible': [False, True, False]},\n",
    "                          {'title': 'Deaths per mln',\n",
    "                           'showscale':True}]),\n",
    "             dict(label = 'New cases per million',\n",
    "                  method = 'update',\n",
    "                  args = [{'visible': [False, False, True]},\n",
    "                          {'title': 'New cases per million',\n",
    "                           'showscale':True}]),\n",
    "            ]),\n",
    "             type = \"buttons\",\n",
    "             direction=\"right\",\n",
    "             showactive=True,\n",
    "             x=0.05,\n",
    "             xanchor=\"left\",\n",
    "             y=button_layer_1_height,\n",
    "             yanchor=\"top\"\n",
    "        ),\n",
    "        dict(\n",
    "            buttons=list([\n",
    "                dict(\n",
    "                    args=[\"colorscale\", \"Viridis\"],\n",
    "                    label=\"Viridis\",\n",
    "                    method=\"restyle\"\n",
    "                ),\n",
    "                dict(\n",
    "                    args=[\"colorscale\", \"Cividis\"],\n",
    "                    label=\"Cividis\",\n",
    "                    method=\"restyle\"\n",
    "                ),\n",
    "                dict(\n",
    "                    args=[\"colorscale\", \"Blues\"],\n",
    "                    label=\"Blues\",\n",
    "                    method=\"restyle\"\n",
    "                ),\n",
    "                dict(\n",
    "                    args=[\"colorscale\", \"Greens\"],\n",
    "                    label=\"Greens\",\n",
    "                    method=\"restyle\"\n",
    "                ),\n",
    "            ]),\n",
    "            type = \"buttons\",\n",
    "            direction=\"right\",\n",
    "            pad={\"r\": 10, \"t\": 10},\n",
    "            showactive=True,\n",
    "            x=0.05,\n",
    "            xanchor=\"left\",\n",
    "            y=button_layer_2_height,\n",
    "            yanchor=\"top\"\n",
    "        ),\n",
    "        dict(\n",
    "            buttons=list([\n",
    "                dict(\n",
    "                    args=[\"reversescale\", False],\n",
    "                    label=\"False\",\n",
    "                    method=\"restyle\"\n",
    "                ),\n",
    "                dict(\n",
    "                    args=[\"reversescale\", True],\n",
    "                    label=\"True\",\n",
    "                    method=\"restyle\"\n",
    "                )\n",
    "            ]),\n",
    "            type = \"buttons\",\n",
    "            direction=\"right\",\n",
    "            pad={\"r\": 10, \"t\": 10},\n",
    "            showactive=True,\n",
    "            x=0.08,\n",
    "            xanchor=\"left\",\n",
    "            y=button_layer_3_height,\n",
    "            yanchor=\"top\"\n",
    "        )\n",
    "        \n",
    "    ]\n",
    ")\n",
    "\n",
    "fig.update_layout(\n",
    "    annotations=[\n",
    "        dict(text=\"Type\", x=0, xref=\"paper\", y=button_layer_1_height-0.01, yref=\"paper\",\n",
    "                             align=\"left\", showarrow=False),\n",
    "        dict(text=\"Color\", x=0, xref=\"paper\", y=button_layer_2_height-0.03, yref=\"paper\",\n",
    "                             align=\"left\", showarrow=False),\n",
    "        dict(text=\"Reverse<br>Colorscale\", x=0, xref=\"paper\", y=button_layer_3_height-0.02,\n",
    "                             yref=\"paper\", align=\"left\", showarrow=False)\n",
    "    ])\n",
    "fig.show(renderer='notebook')"
   ]
  },
  {
   "cell_type": "code",
   "execution_count": null,
   "id": "e783e73e",
   "metadata": {},
   "outputs": [],
   "source": [
    "# Plotly Treemap\n",
    "fig = px.treemap(world_data_latest, path=[px.Constant(\"World\"),'continent','location'], values='total_cases_per_million',\n",
    "                 color='total_cases_per_million',\n",
    "                 color_continuous_scale='RdBu',\n",
    "                 labels={\"total_cases_per_million\":\"Total cases per mln\"},\n",
    "                 width=1000, height=600\n",
    "                )\n",
    "fig.update_layout(title=\"<b>Countries share in total cases per mln<b>\",\n",
    "                  titlefont={'size': 30},\n",
    "                  margin = dict(t=50, l=25, r=25, b=25))\n",
    "fig.data[0].hovertemplate = '%{label}<br>%{value:,.0f}'\n",
    "fig.show(renderer='notebook')"
   ]
  },
  {
   "cell_type": "code",
   "execution_count": null,
   "id": "5bad7789",
   "metadata": {
    "scrolled": true
   },
   "outputs": [],
   "source": [
    "world_data_clean = world_data.copy()\n",
    "world_data_clean['date'] = world_data_clean['date'].astype(str) # runing animation in plotly requires date as str type\n",
    "world_data_clean.sort_index(inplace=True)"
   ]
  },
  {
   "cell_type": "code",
   "execution_count": null,
   "id": "9ee7be64",
   "metadata": {
    "scrolled": false
   },
   "outputs": [],
   "source": [
    "#Plotly animation in time\n",
    "fig = px.choropleth(world_data_clean,locations='location',locationmode='country names',color='stringency_index',\n",
    "                    animation_frame='date',\n",
    "                    color_continuous_scale='Reds', # choosing the colors palette\n",
    "                    range_color = [0,100], # fix the range color scale\n",
    "                    labels={\"stringency_index\":\"Stringency index\", \"date\":\"Date\", \"location\":\"Location\"} # customize label\n",
    "                    \n",
    "                          )\n",
    "fig.update_layout(title=\"<b>Stringency index in time<b>\",\n",
    "                  titlefont={'size': 30},\n",
    "#                   title_font_family='serif',\n",
    "                  paper_bgcolor=background_color,\n",
    "                  title_x = 0.5,\n",
    "                  geo=dict(showframe = False,showcoastlines = False,)\n",
    "                  )\n",
    "fig.layout.updatemenus[0].buttons[0].args[1]['frame']['duration'] = 1\n",
    "fig.layout.updatemenus[0].buttons[0].args[1]['transition']['duration'] = 0.1\n",
    "fig.update_geos(projection_type=\"equirectangular\", visible=True, resolution=110)\n",
    "fig.show(renderer='notebook')"
   ]
  },
  {
   "cell_type": "markdown",
   "id": "0be8bf47",
   "metadata": {},
   "source": [
    "## Polska"
   ]
  },
  {
   "cell_type": "code",
   "execution_count": null,
   "id": "f50635cf",
   "metadata": {},
   "outputs": [],
   "source": [
    "# Visualisations using Matplotlib\n",
    "daily_case = world_data.loc[world_data.location=='Poland'].dropna(subset=['new_cases'])\n",
    "daily_case_smooth = world_data.loc[world_data.location=='Poland'].dropna(subset=['new_cases_smoothed'])\n",
    "pl_death = world_data.loc[world_data.location=='Poland'].dropna(subset=['new_deaths'])\n",
    "pl_death = pl_death.loc[pl_death.new_deaths > 0]\n",
    "\n",
    "\n",
    "## form the figure\n",
    "fig, ax = plt.subplots(figsize=(12,9), facecolor=background_color)\n",
    "ax.plot(daily_case.date, daily_case.new_cases, color='slategrey', alpha=0.6, label='Daily Case')\n",
    "ax.plot(daily_case.date, daily_case.new_cases_smoothed, color=blue, label='7-day Moving Avg')\n",
    "ax.plot(pl_death.date, pl_death.new_deaths, color=dark_pl, label='Death')\n",
    "ax.set_xlabel('Date')\n",
    "ax.set_ylabel('Infection')\n",
    "ax.legend(facecolor=background_color, framealpha=0, loc='upper right', bbox_to_anchor=(0.95, 1))\n",
    "\n",
    "## add patches to show the total confirmed cases and deaths\n",
    "fig.patches.extend([plt.Rectangle((0.71,0.7),0.16,0.08,\n",
    "                                  fill=True, color='grey', alpha=0.1, zorder=1000,\n",
    "                                  transform=fig.transFigure, figure=fig)])\n",
    "fig.text(0.715,0.76,'Total Cases',fontfamily='monospace',fontsize=10)\n",
    "fig.text(0.715,0.715,f\"{int(world_data.loc[world_data.location=='Poland']['total_cases'].max()):,d}\",fontfamily='monospace', \n",
    "         color=blue,fontsize=25)\n",
    "\n",
    "\n",
    "fig.patches.extend([plt.Rectangle((0.71,0.6),0.16,0.08,\n",
    "                                  fill=True, color='grey', alpha=0.1, zorder=1000,\n",
    "                                  transform=fig.transFigure, figure=fig)])\n",
    "fig.text(0.715,0.66,'Total Deaths',fontfamily='monospace',fontsize=10)\n",
    "fig.text(0.715,0.615,f\"{int(world_data.loc[world_data.location=='Poland']['total_deaths'].max()):,d}\",\n",
    "         fontfamily='monospace', color=dark_pl,fontsize=25)\n",
    "\n",
    "\n",
    "## title and subtitle and date\n",
    "fig.text(0.055,1.02,'Daily Updates in Poland',fontsize=40,fontweight='bold')\n",
    "fig.text(0.055,0.92,f'After 3 waves of infections, the 4th one is in progress.\\nWhy the 1st one is not visible?',color='gray',fontsize=20)\n",
    "fig.text(0.055,0.02,f'as on {data_date}',color='gray',fontsize=13, style='italic')\n",
    "\n",
    "# Removing axis and spines\n",
    "for s in ['top', 'right', 'bottom', 'left']:\n",
    "    ax.spines[s].set_visible(False) \n",
    "\n",
    "# remove y ticks\n",
    "ax.tick_params(axis=u'both', which=u'both',length=0)\n",
    "\n",
    "ax.set_facecolor(background_color)\n",
    "# plt.savefig('daily_updates.png', dpi=300,bbox_inches = \"tight\")\n",
    "plt.show()\n"
   ]
  },
  {
   "cell_type": "code",
   "execution_count": null,
   "id": "86dd6167",
   "metadata": {},
   "outputs": [],
   "source": [
    "## form the figure\n",
    "fig, ax = plt.subplots(figsize=(12,9), facecolor=background_color)\n",
    "ax = sns.lineplot(data=world_data, x='date',y=world_data['total_cases_per_million']/1000,hue='location', palette='Greys_r', alpha=0.1, legend=False)\n",
    "ax = sns.lineplot(data=world_data[world_data.location=='Poland'], x='date',y=world_data[world_data.location=='Poland']['total_cases_per_million']/1000, label='Poland', color=blue, legend=False)\n",
    "dummy_date = world_data.date[0]\n",
    "ax.hlines(0, xmin=dummy_date, xmax=dummy_date, label='World',color='silver')\n",
    "ax.set_xlabel('Date',fontsize=11)\n",
    "ax.set_ylabel(\"Cummulated Infection per Million (000s)\", fontsize=11)\n",
    "\n",
    "## plot a point in PL\n",
    "pl_per_mil = world_data[world_data.location=='Poland']['total_cases_per_million'].tolist()[-1]/1000\n",
    "pl_date = world_data[world_data.location=='Poland']['date'].tolist()[-1]\n",
    "ax.scatter(y=pl_per_mil, x=pl_date, s=100, color=blue, edgecolor='white', linewidths= 1, zorder=20) ## end scatter points\n",
    "ax.legend(facecolor=background_color, framealpha=0, loc='upper right', bbox_to_anchor=(0.95, 1))\n",
    "\n",
    "## title and subtitle and date\n",
    "fig.text(0.055,0.98,\"Infections per Million\",fontsize=40,fontweight='bold')\n",
    "fig.text(0.055,0.90,f\"Not great not terrible\\ncomparing to rest of the World.\",color='gray',fontsize=20)\n",
    "fig.text(0.055,0.05,f'as on {data_date}',color='gray',fontsize=13, style='italic')\n",
    "\n",
    "\n",
    "# Removing axis and spines and set spine color\n",
    "for s in ['top', 'right', 'bottom', 'left']:\n",
    "    ax.spines[s].set_visible(False)\n",
    "ax.spines['left'].set_color('#3b3b3b')    \n",
    "ax.spines['bottom'].set_color('#3b3b3b')\n",
    "    \n",
    "## remove ticks on x and y axis\n",
    "ax.tick_params(axis=u'both', which=u'both',length=0)\n",
    "ax.xaxis.set_tick_params(labelsize=11)\n",
    "fig.set_facecolor(background_color)\n",
    "ax.set_facecolor(background_color)\n",
    "# plt.savefig('covid_per_million.png',dpi=300,bbox_inches='tight')"
   ]
  },
  {
   "cell_type": "markdown",
   "id": "3c94c5d8",
   "metadata": {},
   "source": [
    "# 4. Analiza szczepień w Polsce i w innych krajach"
   ]
  },
  {
   "cell_type": "code",
   "execution_count": null,
   "id": "7a52da22",
   "metadata": {},
   "outputs": [],
   "source": [
    "pl_vac_per_manu_pivot = pl_vac_per_manu.pivot(index='date', columns='vaccine', values='total_vaccinations')"
   ]
  },
  {
   "cell_type": "code",
   "execution_count": null,
   "id": "96be51d3",
   "metadata": {
    "scrolled": false
   },
   "outputs": [],
   "source": [
    "cst_vac = pd.DataFrame(columns=['Cost Per Dose'],\n",
    "                      data = [7,10,27,37,38])\n",
    "\n",
    "Manufacturers ='Oxford/AstraZeneca','Johnson & Johnson','Sinovac','Moderna','Pfizer/BioNTech'\n",
    "\n",
    "cst_vac['Provider'] = Manufacturers\n",
    "\n",
    "\n",
    "\n",
    "fig = plt.figure(figsize=(10, 4),dpi=150, facecolor=background_color)\n",
    "gs = fig.add_gridspec(1, 1)\n",
    "gs.update(wspace=0, hspace=0)\n",
    "ax0 = fig.add_subplot(gs[0, 0])\n",
    "ax0.set_facecolor(background_color)\n",
    "for s in [\"right\", \"top\",\"bottom\",\"left\"]:\n",
    "    ax0.spines[s].set_visible(False)\n",
    "\n",
    "ax0.tick_params(axis = \"both\", which = \"both\", left=False, bottom=False,labelbottom=False)\n",
    "\n",
    "ax0.text(0, -1, 'How much does a dose of each vaccine cost?', color='black', fontsize=15, ha='left', va='bottom', weight='bold')\n",
    "ax0.text(0, -0.93, 'Oxford/AstraZeneca and Johnoson and Johnson are the most affordable vaccines.', \n",
    "         color='gray', fontsize=12, ha='left', va='top')\n",
    "\n",
    "color_map = [others for _ in range(5)]\n",
    "color_map[0] = pl # color highlight\n",
    "sns.barplot(ax=ax0, y=cst_vac['Provider'], x=cst_vac['Cost Per Dose']*1.1,color=background_color, zorder=2, orient='h')\n",
    "\n",
    "sns.barplot(ax=ax0, y=cst_vac['Provider'], x=cst_vac['Cost Per Dose'],palette=color_map, zorder=2, orient='h')\n",
    "\n",
    "ax0.set_xlabel(\"\")\n",
    "ax0.set_ylabel(\"\")\n",
    "ax0.grid(False)\n",
    "ax0.tick_params(labelsize=5)\n",
    "\n",
    "labels = [ '\\n'.join(wrap(l, 40)) for l in cst_vac['Provider'] ]\n",
    "ax0.set_yticklabels([])\n",
    "\n",
    "for i in range(1,5):\n",
    "    ax0.annotate(cst_vac['Provider'][i], \n",
    "                   xy=(cst_vac['Cost Per Dose'][i]-0.1, i), \n",
    "                   va = 'center', ha='right',fontweight='light', fontfamily='serif',fontsize=8, color='black',rotation=0)\n",
    "\n",
    "    ax0.annotate(f\"${cst_vac['Cost Per Dose'][i]}\", \n",
    "                   xy=(cst_vac['Cost Per Dose'][i]+3, i), \n",
    "                   va = 'center', ha='right',fontweight='light', fontfamily='serif',fontsize=15, color=others,rotation=0)\n",
    "# diff color text\n",
    "for i in range(0,1):\n",
    "    ax0.annotate('$7', \n",
    "                   xy=(cst_vac['Cost Per Dose'][i]+2, i),\n",
    "                    va = 'center', ha='right',fontweight='light', fontfamily='serif',fontsize=15, color=pl,rotation=0)\n",
    "    ax0.annotate('Oxford/\\nAstraZeneca', \n",
    "                   xy=(cst_vac['Cost Per Dose'][i]-0.1, i),\n",
    "                    va = 'center', ha='right',fontweight='light', fontfamily='serif',fontsize=8, color='black',rotation=0)\n",
    "    \n",
    "for i in range(4,5):\n",
    "    ax0.annotate('$38', \n",
    "                   xy=(cst_vac['Cost Per Dose'][i]+3, i),\n",
    "                    va = 'center', ha='right',fontweight='light', fontfamily='serif',fontsize=15, color='#9b1b30',rotation=0)\n",
    "fig.text(0.12,0.1,f'based on www.statista.com (March 2021)',color='gray',fontfamily='serif',fontsize=5, style='italic');\n",
    "# plt.savefig('vaccine_cost.png', dpi=300, bbox_inches = \"tight\")"
   ]
  },
  {
   "cell_type": "code",
   "execution_count": null,
   "id": "6b894070",
   "metadata": {},
   "outputs": [],
   "source": [
    "pl_population = pl_stats['population'].iloc[-1]\n",
    "cst_vac['Cost for mean Country Population'] = cst_vac['Cost Per Dose']*pl_population"
   ]
  },
  {
   "cell_type": "code",
   "execution_count": null,
   "id": "ca4c36f6",
   "metadata": {},
   "outputs": [],
   "source": [
    "circles = circlify.circlify(\n",
    "    cst_vac['Cost for mean Country Population'].tolist(), \n",
    "    show_enclosure=False, \n",
    "    target_enclosure=circlify.Circle(x=0, y=0, r=1)\n",
    ")"
   ]
  },
  {
   "cell_type": "code",
   "execution_count": null,
   "id": "4d94418c",
   "metadata": {},
   "outputs": [],
   "source": [
    "fig = plt.figure(figsize=(7, 7),dpi=150, facecolor=background_color)\n",
    "gs = fig.add_gridspec(1, 1)\n",
    "gs.update(wspace=0, hspace=0)\n",
    "ax = fig.add_subplot(gs[0, 0])\n",
    "ax.set_facecolor(background_color)\n",
    "for s in [\"right\", \"top\",\"bottom\",\"left\"]:\n",
    "    ax.spines[s].set_visible(False)\n",
    "\n",
    "ax.set_facecolor(background_color)\n",
    "\n",
    "# Title\n",
    "ax.text(-1,1.3,'How much does it cost to purchase\\nenough doses for PL?',fontsize=15,fontweight='bold')\n",
    "ax.text(-1,1.15,'Taking into consideration over 37mln population - that is used here.\\nVariation in cost is staggering - and this does not include logistical or manufacturing costs.',color='gray',fontsize=10)\n",
    "\n",
    "# Remove axes\n",
    "ax.axis('off')\n",
    "\n",
    "# Find axis boundaries\n",
    "lim = max(\n",
    "    max(\n",
    "        abs(circle.x) + circle.r,\n",
    "        abs(circle.y) + circle.r,\n",
    "    )\n",
    "    for circle in circles\n",
    ")\n",
    "plt.xlim(-lim, lim)\n",
    "plt.ylim(-lim, lim)\n",
    "\n",
    "# list of labels\n",
    "labels = cst_vac['Provider']\n",
    "costs = cst_vac['Cost for mean Country Population']\n",
    "# print circles\n",
    "for circle, label in zip(circles, labels):\n",
    "    if label == 'Oxford/AstraZeneca':\n",
    "        x, y, r = circle\n",
    "        ax.add_patch(plt.Circle((x, y), r, alpha=0.9, linewidth=1, facecolor=pl, edgecolor=\"black\"))\n",
    "        plt.annotate('Oxford/\\nAstraZeneca', (x,y+0.05) ,va='center', ha='center',color='white', fontsize=8)\n",
    "        \n",
    "    else:\n",
    "        x, y, r = circle\n",
    "        ax.add_patch(plt.Circle((x, y), r, alpha=0.5, linewidth=0.3, facecolor=others, edgecolor=\"black\"))\n",
    "        plt.annotate(label, (x,y+0.05) ,va='center', ha='center', fontsize=8, alpha=0.5)\n",
    "    \n",
    "for circle, costs in zip(circles, costs):\n",
    "        x, y, r = circle\n",
    "        plt.annotate(f\"${format(round(costs), ',')}\", (x,y-0.03) ,va='center', ha='center', fontsize=8) #bbox=dict(facecolor='white', edgecolor='black', boxstyle='round', pad=.5))\n",
    "# plt.savefig('circles.png', dpi=300, bbox_inches = \"tight\")"
   ]
  },
  {
   "cell_type": "code",
   "execution_count": null,
   "id": "80769d58",
   "metadata": {},
   "outputs": [],
   "source": [
    "fig, ax = plt.subplots(figsize=(16,10))\n",
    "ax.fill_between(x=pl_vac_per_manu_pivot.index, y1=pl_vac_per_manu_pivot['Johnson&Johnson'], color='#1d70b8')\n",
    "ax.fill_between(x=pl_vac_per_manu_pivot.index, y1=pl_vac_per_manu_pivot['Moderna'], color='#1d70b8', alpha=0.8)\n",
    "ax.fill_between(x=pl_vac_per_manu_pivot.index, y1=pl_vac_per_manu_pivot['Oxford/AstraZeneca'], color='#1d70b8', alpha=0.5)\n",
    "ax.fill_between(x=pl_vac_per_manu_pivot.index, y1=pl_vac_per_manu_pivot['Pfizer/BioNTech'], color='#1d70b8', alpha=0.3)\n",
    "\n",
    "pfizer_tot = pl_vac_per_manu_pivot['Pfizer/BioNTech'][-1]\n",
    "moderna_tot = pl_vac_per_manu_pivot['Moderna'][-1]\n",
    "az_tot = pl_vac_per_manu_pivot['Oxford/AstraZeneca'][-1]\n",
    "jj_tot = pl_vac_per_manu_pivot['Johnson&Johnson'][-1]\n",
    "\n",
    "## annotate the graph\n",
    "ax.annotate(f\"{'%d' % (pfizer_tot/1000000)}mln Pfizer doses\",\n",
    "            xy=(700, 300), xycoords='figure pixels',va = 'center', ha='center',fontsize=30, fontweight='light', fontfamily='serif', color='white')\n",
    "ax.annotate(f\"{'%d' % (az_tot/1000000)}mln Astra Zeneca doses\",\n",
    "            xy=(700, 160), xycoords='figure pixels',va = 'center', ha='center',fontsize=20, fontweight='light', fontfamily='serif', color='white')\n",
    "ax.annotate(f\"{'%d' % (moderna_tot/1000000)}mln Moderna doses\",\n",
    "            xy=(700, 130), xycoords='figure pixels',va = 'center', ha='center',fontsize=15, fontweight='light', fontfamily='serif', color='white')\n",
    "ax.annotate(f\"{'%d' % (jj_tot/1000000)}mln Johnson&Johnson doses\",\n",
    "            xy=(700, 100), xycoords='figure pixels',va = 'center', ha='center',fontsize=15, fontweight='light', fontfamily='serif', color='white')\n",
    "\n",
    "#y axis formater\n",
    "scale_y = 1e6\n",
    "ticks_y = ticker.FuncFormatter(lambda x, pos: '{0:g}'.format(x/scale_y))\n",
    "ax.yaxis.set_major_formatter(ticks_y)\n",
    "ax.set_ylabel('Doses in millions', fontsize=12)\n",
    "\n",
    "## set x axis labels and font\n",
    "ax.set_xlabel('Date', fontsize=12)\n",
    "\n",
    "## title and subtitle and date\n",
    "fig.text(0.145,0.9,'What type of vaccine?',fontsize=40,fontweight='bold')\n",
    "fig.text(0.145,0.82,f'With over {pfizer_tot:,d} doses administered Pfzer\\BioNTech, \\ndominated the vaccine market in Poland.',color='gray',fontsize=20)\n",
    "fig.text(0.1,0.05,f'as on {data_date}',color='gray',fontsize=10, style='italic')\n",
    "\n",
    "fig.set_facecolor(background_color)\n",
    "ax.set_facecolor(background_color)\n",
    "# plt.savefig('vacine_type.png', dpi=300,bbox_inches = \"tight\")"
   ]
  },
  {
   "cell_type": "code",
   "execution_count": null,
   "id": "7ef6d1fe",
   "metadata": {},
   "outputs": [],
   "source": [
    "fig = plt.figure(figsize=(5, 5),dpi=150,facecolor=background_color,\n",
    "    FigureClass=Waffle,\n",
    "    rows=10,colors=[dark_pl,pl,others],\n",
    "    columns=10,vertical=True,\n",
    "    values={'Second Dose %': 52,'First Dose %': (53-52), 'Awaiting %': 47})\n",
    "\n",
    "fig.text(0.035,1.09,'PL Vaccination uptake',fontsize=20,fontweight='bold')\n",
    "fig.text(0.035,1.01,'Nearly 55% of the PL adult population\\nhas received the first dose of the vaccine.',color='gray',fontsize=10)\n",
    "\n",
    "first_patch = mpatches.Patch(color=pl, label='First dose %')\n",
    "second_patch = mpatches.Patch(color=dark_pl, label='Second dose %')\n",
    "\n",
    "plt.legend(handles=[first_patch,second_patch],bbox_to_anchor=(0.5,-0.12),loc='lower center',ncol=2,\n",
    "          facecolor=background_color, framealpha=0);\n",
    "fig.text(0.035,0.01,f'as on {data_date}',color='gray',fontsize=5, style='italic');\n",
    "# plt.savefig('vaccine_ratio.png', dpi=300, bbox_inches = \"tight\")"
   ]
  },
  {
   "cell_type": "code",
   "execution_count": null,
   "id": "89c90377",
   "metadata": {},
   "outputs": [],
   "source": [
    "pl_stats_weekly = pl_stats.dropna(subset = ['people_vaccinated_per'])"
   ]
  },
  {
   "cell_type": "code",
   "execution_count": null,
   "id": "e2e5b70a",
   "metadata": {
    "scrolled": false
   },
   "outputs": [],
   "source": [
    "fig = plt.figure(figsize=(10, 4), dpi=150,facecolor=background_color)\n",
    "gs = fig.add_gridspec(1, 1)\n",
    "gs.update(wspace=0, hspace=0)\n",
    "ax0 = fig.add_subplot(gs[0, 0])\n",
    "ax0.set_facecolor(background_color)\n",
    "for s in [\"right\", \"top\"]:\n",
    "    ax0.spines[s].set_visible(False)\n",
    "    \n",
    "sns.barplot(x='date',  y=\"people_vaccinated_per\", data=pl_stats_weekly, color=pl);\n",
    "\n",
    "sns.barplot(x='date', y=\"people_fully_vaccinated_per\", data=pl_stats_weekly, color=dark_pl);\n",
    "\n",
    "Xstart, Xend = ax0.get_xlim()\n",
    "Ystart, Yend = ax0.get_ylim()\n",
    "\n",
    "ax0.set_xlabel('Date', fontsize=8)\n",
    "ax0.set_xticklabels([x.strftime(\"%Y-%m\") for x in pl_stats_weekly.index])\n",
    "ax0.locator_params(axis='x', nbins=8)\n",
    "ax0.set_ylabel(\"Population Vaccinated (%)\",loc='top', fontsize=8)\n",
    "\n",
    "ax0.set_ylim([0,Yend])\n",
    "ax0.text(Xstart,Yend+(Yend*0.15), 'The PL initially focused on administering first doses', fontsize=15, ha='left', va='bottom', weight='bold')\n",
    "ax0.text(Xstart,Yend+(Yend*0.13), 'In PL, there are ~4 weeks between doses depending on vaccine\\nThough due to lack of vaccines in mid 2021 first dosage patients had priority', color='gray', fontsize=10, ha='left', va='top')\n",
    "fig.text(0.1,-0.1,f'as on {data_date}',color='gray',fontsize=5, style='italic');\n",
    "# plt.savefig('vaccine_progress.png', dpi=300, bbox_inches = \"tight\")"
   ]
  },
  {
   "cell_type": "code",
   "execution_count": null,
   "id": "055e0da4",
   "metadata": {
    "scrolled": false
   },
   "outputs": [],
   "source": [
    "world_vac = world_data.dropna(subset = ['people_vaccinated_per'])\n",
    "\n",
    "\n",
    "\n",
    "## timeseries of vaccination progress - pl vs regional countries\n",
    "countries = ['Spain', 'Germany', 'Czechia', 'Hungary','United Kingdom', 'France', 'Latvia']\n",
    "\n",
    "## time series analysis of vaccination in pl\n",
    "fig, ax = plt.subplots(figsize=(12,9), facecolor=background_color)\n",
    "ax = sns.lineplot(data=world_vac[world_vac.location.isin(countries)], x='date',y='people_vaccinated_per',hue='location', palette='gray', alpha=0.8, legend=False)\n",
    "ax = sns.lineplot(data=world_vac[world_vac.location=='Poland'], x='date',y='people_vaccinated_per', color=pl, legend=False)\n",
    "ax.set_xlabel('Date',fontsize=11)\n",
    "ax.set_ylabel(\"Cummulated Vaccination Progress (%)\", fontsize=11)\n",
    "\n",
    "## plot the dot at the end of the line\n",
    "world_ = world_vac[world_vac.location.isin(countries+['Poland'])].groupby('location',as_index=False).agg({'date':'max','people_vaccinated_per':'max'})\n",
    "ax = sns.scatterplot(data=world_.loc[world_.location!='Poland'], x='date', y='people_vaccinated_per', s=100, hue='location', palette='gray', legend=False)\n",
    "ax = sns.scatterplot(data=world_.loc[world_.location=='Poland'], x='date', y='people_vaccinated_per', s=180, color=pl, legend=False)\n",
    "\n",
    "for i in range(len(world_)):\n",
    "    ax.annotate(f'{world_.location[i]} ({round(world_.people_vaccinated_per[i],2)}%)', (max(world_.date)+timedelta(days=10),world_.people_vaccinated_per[i]))\n",
    "\n",
    "## title and subtitle and date\n",
    "fig.text(0.055,1.0,\"Vaccination Progress, Regionwise\",fontsize=40,fontweight='bold')\n",
    "fig.text(0.055,0.95,f\"How does Poland's vaccination progress compare to other countries in the region?\",color='gray',fontsize=20)\n",
    "fig.text(0.055,0.05,f'as on {data_date}',color='gray',fontsize=13, style='italic')\n",
    "\n",
    "# removing axis and spines and set spine color\n",
    "for s in ['top', 'right']:\n",
    "    ax.spines[s].set_visible(False)\n",
    "ax.spines['left'].set_color('#3b3b3b')    \n",
    "ax.spines['bottom'].set_color('#3b3b3b')\n",
    "    \n",
    "## remove ticks on x and y axis\n",
    "ax.tick_params(axis=u'both', which=u'both',length=0)\n",
    "ax.xaxis.set_tick_params(labelsize=11)\n",
    "fig.set_facecolor(background_color)\n",
    "ax.set_facecolor(background_color)\n",
    "# plt.savefig('vac_progress_region.png',dpi=300,bbox_inches='tight')\n",
    "plt.show()\n"
   ]
  },
  {
   "cell_type": "code",
   "execution_count": null,
   "id": "c0f2e6dd",
   "metadata": {},
   "outputs": [],
   "source": [
    "## vaccination rate vs rest of the world\n",
    "world_latest = world_data.groupby(['location', 'iso_code'],as_index=False).agg({'people_vaccinated_per':'max','people_fully_vaccinated_per':'max'})\n",
    "\n",
    "## sort the dataframe by vac. rate\n",
    "world_latest = world_latest.dropna(subset=['people_vaccinated_per','people_fully_vaccinated_per']).sort_values('people_vaccinated_per', ascending=True).reset_index(drop=True)\n",
    "top = 10\n",
    "world_latest_top = world_latest.tail(top)\n",
    "world_latest_pl = world_latest.loc[world_latest.location == 'Poland'].reset_index()\n",
    "pl_position = len(world_latest)+1-world_latest.loc[world_latest.location=='Poland'].index.tolist()[0]\n",
    "\n",
    "\n",
    "## form the figure\n",
    "fig, (ax1,ax2) = plt.subplots(2,1, figsize=(12,7), sharex=True, gridspec_kw={'height_ratios': [top, 0.7]})\n",
    "ax1.barh(y=[f'{x} {y}' for x,y in zip(range(1,len(world_latest_top)+1)[::-1],world_latest_top.location)], width=world_latest_top.people_vaccinated_per, color='lightgrey', height=0.7)\n",
    "ax1.barh(y=[f'{x} {y}' for x,y in zip(range(1,len(world_latest_top)+1)[::-1],world_latest_top.location)], width=world_latest_top.people_fully_vaccinated_per, color='slategrey', alpha=0.7, height=0.7)\n",
    "ax2.barh(y=f'{pl_position} Poland', width=world_latest_pl.people_vaccinated_per, color=pl, alpha=0.5, height=0.3)\n",
    "ax2.barh(y=f'{pl_position} Poland', width=world_latest_pl.people_fully_vaccinated_per, color=dark_pl, alpha=0.7, height=0.3)\n",
    "ax2.set_xlabel(\"Vaccination Progress (%)\", fontsize=11)\n",
    "fig.tight_layout()\n",
    "\n",
    "## annotate the values\n",
    "for x, y in zip([f'{x} {y}' for x,y in zip(range(1,len(world_latest_top)+1)[::-1],world_latest_top.location)],world_latest_top.people_vaccinated_per):\n",
    "    ax1.annotate(f'{round(y,1)}%', xy=(y+1, x), fontsize=10)\n",
    "for x, y in zip([f'{x} {y}' for x,y in zip(range(1,len(world_latest_top)+1)[::-1],world_latest_top.location)],world_latest_top.people_fully_vaccinated_per):\n",
    "    ax1.annotate(f'{round(y,1)}%', xy=(y/2, x), fontsize=10, color='white')\n",
    "\n",
    "ax2.annotate(f'{round(world_latest_pl.people_vaccinated_per[0],1)}%', xy=(world_latest_pl.people_vaccinated_per[0]+1, f'{pl_position} Poland'), fontsize=10, color='black')\n",
    "ax2.annotate(f'{round(world_latest_pl.people_fully_vaccinated_per[0],1)}%', xy=(world_latest_pl.people_fully_vaccinated_per[0]/2, f'{pl_position} Poland'), fontsize=10, color='white')\n",
    "\n",
    "    \n",
    "## customize legend with mpatches\n",
    "first_patch = mpatches.Patch(color='slategrey', label='Fully Vaccinated')\n",
    "second_patch = mpatches.Patch(color='lightgrey', label='Vaccinated')\n",
    "plt.legend(handles=[first_patch,second_patch],bbox_to_anchor=(0.87,0.45),loc='lower center',ncol=1,\n",
    "          facecolor=background_color, framealpha=0)\n",
    "\n",
    "## title and subtitle and date\n",
    "fig.text(0.035,1.06,\"Vaccination Progress\",fontsize=40,fontweight='bold')\n",
    "fig.text(0.035,1.01,f\"How does Poland's vaccination progress compare to the rest of the world?\",color='gray',fontsize=20)\n",
    "fig.text(0.035,-0.05,f'as on {data_date}',color='gray',fontsize=13, style='italic')\n",
    "fig.text(0.5,0.17,f'...',color='lightgrey',fontsize=30, fontweight='bold')\n",
    "\n",
    "\n",
    "# removing axis and spines\n",
    "for s in ['top', 'right', 'bottom', 'left']:\n",
    "    ax1.spines[s].set_visible(False)  \n",
    "    ax2.spines[s].set_visible(False)  \n",
    "    \n",
    "## remove ticks on x and y axis\n",
    "ax1.tick_params(axis=u'both', which=u'both',length=0)\n",
    "ax2.tick_params(axis=u'both', which=u'both',length=0)\n",
    "ax2.xaxis.set_tick_params(labelsize=11)\n",
    "fig.set_facecolor(background_color)\n",
    "ax1.set_facecolor(background_color)\n",
    "ax2.set_facecolor(background_color)\n",
    "# plt.savefig('vac_progress_barh.png', dpi=300,bbox_inches = \"tight\")\n",
    "plt.show()"
   ]
  },
  {
   "cell_type": "markdown",
   "id": "8c083618",
   "metadata": {},
   "source": [
    "![Mapa](https://www.spc.int/sites/default/files/styles/max_1300x1300/public/2018-06/Pitcairn%20-%20pacific%20community%20SPC%20copryrights.jpg?itok=MedPGRUz)"
   ]
  },
  {
   "cell_type": "markdown",
   "id": "87173f5c",
   "metadata": {},
   "source": [
    "![Pitcairn Islands](https://www.visitpitcairn.pn/files/slide_image_8382.jpg)"
   ]
  },
  {
   "cell_type": "markdown",
   "id": "d63f620f",
   "metadata": {},
   "source": [
    "<font size=\"4\">Jako zawodowi analitycy musimy potwierdzić czy nasze dane są prawidłowe. Z informacji znalezionychn w Internecie. Giblartar jest pierwszym krajem na świecie który zaszczepił całą dorsłą populację. Ale to przecież nie składa się na 120%. Dodatkowe procenty wynikają z tego, że szczepiepione tam są również osoby nie będące rezydentem tego kraju. Gibraltar ma sporą populację pracowników z innych krajów, np. z Hiszpanii. Zaszepione zostały wszystkie osoby powyżej 16 roku życia, niezależnie od ich statusu<font><br>\n",
    "[Źródło](https://www.news.com.au/world/coronavirus/global/most-vaxxed-country-jabbed-119-per-cent-of-its-eligible-population/news-story/28dbeed5fbb5a821cdf24f4a25036280)<br>\n",
    "<font size=\"4\">Niestety z uwagi na duży wzrost przypadków w tym kraju rząd przewiduje odwołanie wszystkich oficjalnych uroczystości związanych ze Świętami Bożego narodzenia<font><br>\n",
    "[Źródło](https://www.standard.co.uk/news/world/christmas-cancelled-gibraltar-vaccinations-b966816.html)<br>\n",
    "   "
   ]
  },
  {
   "cell_type": "markdown",
   "id": "347530f7",
   "metadata": {},
   "source": [
    "![Gibraltar](https://www.gospanews.net/en/wp-content/uploads/2021/11/GIBRALTAR-CHRISTMAS.jpg)"
   ]
  },
  {
   "cell_type": "code",
   "execution_count": null,
   "id": "55e8749c",
   "metadata": {},
   "outputs": [],
   "source": [
    "plt.figure(figsize=(12,10), facecolor='grey')\n",
    "calmap.calendarplot(pl_stats[pl_stats['date']>='2021-01-01']['new_vaccinations_smoothed'],fig_kws={'figsize': (12,9), 'facecolor': background_color}, yearlabels=False, fillcolor='whitesmoke', yearlabel_kws={'color':'black', 'fontsize':14})\n",
    "plt.text(-1,10,'Vaccination Heatmap', fontsize=30, fontweight='bold')\n",
    "plt.text(-1,8.3,'How the vaccination program is progressing in 2021 for PL.', fontsize=20, color='gray');\n",
    "# plt.savefig('vac_heatmap.png', dpi=300, bbox_inches = \"tight\")"
   ]
  },
  {
   "cell_type": "code",
   "execution_count": null,
   "id": "27ad82f9",
   "metadata": {},
   "outputs": [],
   "source": [
    "## which weekday more popular for vaccination\n",
    "\n",
    "## get weekday from a datetime object\n",
    "pl_stats['weekday'] = pl_stats.date.apply(lambda x: x.strftime(\"%A\"))\n",
    "weekday_vac = pl_stats.groupby('weekday').agg({'new_vaccinations': 'mean'})\n",
    "weekday_vac['order'] = [4,0,5,6,3,1,2]\n",
    "weekday_vac = weekday_vac.reset_index().set_index('order').sort_values('order')\n",
    "weekday_vac\n",
    "daily_max = weekday_vac[weekday_vac['new_vaccinations']==weekday_vac['new_vaccinations'].max()]\n",
    "\n",
    "# form the figure\n",
    "fig, ax = plt.subplots(figsize=(12,6))\n",
    "ax.hlines(y=weekday_vac.weekday[::-1], xmin=0, xmax=weekday_vac['new_vaccinations'][::-1], color='grey', linewidth=3, alpha=0.4)\n",
    "ax.scatter(y=weekday_vac.weekday[::-1], x=weekday_vac['new_vaccinations'][::-1], s=200, color=dark_pl)\n",
    "ax.scatter(y=daily_max.weekday, x=daily_max['new_vaccinations'], s=900, color=pl)\n",
    "plt.yticks(fontname = \"serif\",fontsize=12)\n",
    "plt.xticks(fontname = \"serif\",fontsize=12)\n",
    "\n",
    "## xlabel & adjust position\n",
    "ax.set_xlabel('Avg. Daily Dose',fontfamily='serif', fontsize=12)\n",
    "ax.xaxis.set_label_coords(0.45, -0.055)\n",
    "\n",
    "## highest\n",
    "ax.annotate(f'{int(round(daily_max[\"new_vaccinations\"],-3)/1000)}K', xy=(daily_max['new_vaccinations'],daily_max.weekday),\n",
    "            color='white', fontsize=10, fontfamily='serif', va='center', ha='center', zorder=20)\n",
    "\n",
    "## title and subtitle and date\n",
    "fig.text(0.035,1.05,'The best day for a vaccine in PL?',fontsize=40,fontweight='bold')\n",
    "fig.text(0.035,0.93,f'You can expect a very crowded vaccination centre \\nin the middle of the week.',color='gray',fontsize=20)\n",
    "fig.text(0.035,0.01,f'as on {data_date}',color='gray',fontsize=13, style='italic')\n",
    "\n",
    "# Removing axis and spines\n",
    "for s in ['top', 'right', 'bottom', 'left']:\n",
    "    ax.spines[s].set_visible(False)   \n",
    "    \n",
    "## remove ticks on x and y axis\n",
    "ax.tick_params(axis=u'both', which=u'both',length=0)\n",
    "    \n",
    "fig.set_facecolor(background_color)\n",
    "ax.set_facecolor(background_color)\n",
    "# plt.savefig('best_day.png', dpi=300,bbox_inches = \"tight\")"
   ]
  },
  {
   "cell_type": "code",
   "execution_count": null,
   "id": "978a7e67",
   "metadata": {},
   "outputs": [],
   "source": [
    "eu_vac = vaccinations_per_manu[vaccinations_per_manu['location']=='European Union']\n",
    "us_vac = vaccinations_per_manu[vaccinations_per_manu['location']=='United States']"
   ]
  },
  {
   "cell_type": "code",
   "execution_count": null,
   "id": "3acd3acb",
   "metadata": {
    "scrolled": false
   },
   "outputs": [],
   "source": [
    "fig = px.line(eu_vac, x=\"date\", y=\"total_vaccinations\", color=\"vaccine\", custom_data=['vaccine'],\n",
    "              labels={\"total_vaccinations\":\"Total vaccinations\", \"date\":\"Date\"}, \n",
    "              color_discrete_sequence=px.colors.sequential.ice, width=900, height=500)\n",
    "fig.update_traces(mode=\"lines\", hovertemplate='%{y:,}<br><extra>%{customdata[0]}</extra>')\n",
    "fig.update_layout(hovermode=\"x\")\n",
    "fig.update_layout(\n",
    "    title_text='<b>Vaccination progress in EU,  by manufacturer<b>',\n",
    "    title_x = 0.5,\n",
    "    titlefont={'size': 30}, \n",
    "    title_font_color='black',\n",
    "    paper_bgcolor=background_color,\n",
    "    showlegend=False,\n",
    "    plot_bgcolor='white')\n",
    "fig.show(renderer='notebook')"
   ]
  },
  {
   "cell_type": "code",
   "execution_count": null,
   "id": "7ee7cc72",
   "metadata": {},
   "outputs": [],
   "source": [
    "fig = px.line(us_vac, x=\"date\", y=\"total_vaccinations\", color=\"vaccine\", custom_data=['vaccine'],\n",
    "              labels={\"total_vaccinations\":\"Total vaccinations\", \"date\":\"Date\"}, \n",
    "              color_discrete_sequence=px.colors.sequential.ice, width=900, height=500)\n",
    "fig.update_traces(mode=\"lines\", hovertemplate='%{y:,}<br><extra>%{customdata[0]}</extra>')\n",
    "fig.update_layout(hovermode=\"x\")\n",
    "fig.update_layout(\n",
    "    title_text='<b>Vaccination progress in USA, by manufacturer<b>',\n",
    "#     title_font_family='serif',\n",
    "    title_x = 0.5,\n",
    "    titlefont={'size': 30},\n",
    "    title_font_color='black',\n",
    "    paper_bgcolor=background_color,\n",
    "    showlegend=False,\n",
    "    plot_bgcolor='white')\n",
    "fig.show(renderer='notebook')"
   ]
  },
  {
   "cell_type": "markdown",
   "id": "a99a5ecb",
   "metadata": {},
   "source": [
    "# 5. Google Trends a koronawirus"
   ]
  },
  {
   "cell_type": "code",
   "execution_count": null,
   "id": "1933562e",
   "metadata": {},
   "outputs": [],
   "source": [
    "from pytrends.request import TrendReq"
   ]
  },
  {
   "cell_type": "code",
   "execution_count": null,
   "id": "f7c948f9",
   "metadata": {},
   "outputs": [],
   "source": [
    "keywords = ['covid','SARS-CoV-2','pandemia COVID-19','objawy','utrata wechu','utrata smaku','dusznosci','kwarantanna','szczepionka na COVID-19','szczepionka','koronawirus','l4','zwolnienie','chore dziecko','zwolnienie na dziecko','przypadki','wakacje koronawirus','wakacje bez testow']"
   ]
  },
  {
   "cell_type": "code",
   "execution_count": null,
   "id": "11bf000e",
   "metadata": {},
   "outputs": [],
   "source": [
    "pytrend = TrendReq(hl='en-GB', tz=360)\n",
    "pytrend.build_payload(\n",
    "    kw_list=[keywords[0]],\n",
    "    cat=0,\n",
    "    timeframe='2020-03-15 2021-11-30',\n",
    "    geo='PL')\n",
    "df_result = pd.DataFrame(pytrend.interest_over_time()).drop(columns='isPartial')\n",
    "for keyword in keywords[1:]:\n",
    "    print(f'Sprawdzam w Google Trends \"{keyword}\"\" dla dat miedzy 2020-03-15 a 2021-11-30')\n",
    "    pytrend.build_payload(\n",
    "         kw_list=[keyword],\n",
    "         cat=0,\n",
    "         timeframe='2020-03-15 2021-11-30',\n",
    "         geo='PL')\n",
    "    df_ot = pd.DataFrame(pytrend.interest_over_time()).drop(columns='isPartial')\n",
    "    df_result = pd.merge(df_result, df_ot, left_index=True, right_index=True)\n",
    "    "
   ]
  },
  {
   "cell_type": "code",
   "execution_count": null,
   "id": "72f49920",
   "metadata": {},
   "outputs": [],
   "source": [
    "df_result.to_csv('google_trends_new.csv')\n",
    "# df_results = pd.read_csv('google_trends_new.csv') #in case google trends is not able to connect\n",
    "df_result.head()"
   ]
  },
  {
   "cell_type": "code",
   "execution_count": null,
   "id": "e458d96c",
   "metadata": {},
   "outputs": [],
   "source": [
    "pl_trends_new = pd.merge(pl_stats, df_result, left_index=True, right_index=True)"
   ]
  },
  {
   "cell_type": "code",
   "execution_count": null,
   "id": "9ee59a23",
   "metadata": {},
   "outputs": [],
   "source": [
    "# Create figure with secondary y-axis\n",
    "fig = make_subplots(specs=[[{\"secondary_y\": True}]])\n",
    "\n",
    "fig.add_trace(go.Scatter(x=pl_trends_new.index, y=pl_trends_new['new_cases'], name=\"New cases\",\n",
    "                    line_shape='linear', line=dict(color=\"navy\")))\n",
    "fig.add_trace(go.Scatter(x=pl_trends_new.index, y=pl_trends_new['covid'], name=\"Search words: Covid\",\n",
    "                    line_shape='linear', line=dict(color=\"darkgray\")), secondary_y=True)\n",
    "\n",
    "fig.update_traces(mode=\"lines\", hovertemplate='%{y:,}<br>')\n",
    "fig.update_layout(hovermode=\"x\")\n",
    "fig.update_layout(\n",
    "    title_text='<b>New cases vs. covid keyword<b>',\n",
    "    title_x = 0.5,\n",
    "    titlefont={'size': 30},\n",
    "    title_font_color='black',\n",
    "    paper_bgcolor=background_color,\n",
    "    showlegend=False,\n",
    "    plot_bgcolor='white')\n",
    "\n",
    "fig.show(renderer='notebook')"
   ]
  },
  {
   "cell_type": "code",
   "execution_count": null,
   "id": "60f23728",
   "metadata": {},
   "outputs": [],
   "source": [
    "# Create figure with secondary y-axis\n",
    "fig = make_subplots(specs=[[{\"secondary_y\": True}]])\n",
    "\n",
    "fig.add_trace(go.Scatter(x=pl_trends_new.index, y=pl_trends_new['reproduction_rate'], name=\"Reproduction rate\",\n",
    "                    line_shape='linear', line=dict(color=\"navy\")))\n",
    "fig.add_trace(go.Scatter(x=pl_trends_new.index, y=pl_trends_new['objawy'], name=\"Search words: Objawy\",\n",
    "                    line_shape='linear', line=dict(color=\"darkgray\")), secondary_y=True)\n",
    "fig.update_traces(mode=\"lines\", hovertemplate='%{y:,}<br>')\n",
    "fig.update_layout(hovermode=\"x\")\n",
    "fig.update_layout(\n",
    "    title_text='<b>Reproduction rate vs. objawy keyword<b>',\n",
    "    title_x = 0.5,\n",
    "    titlefont={'size': 30},\n",
    "    title_font_color='black',\n",
    "    paper_bgcolor=background_color,\n",
    "    showlegend=False,\n",
    "    plot_bgcolor='white')\n",
    "\n",
    "fig.show(renderer='notebook')"
   ]
  },
  {
   "cell_type": "code",
   "execution_count": null,
   "id": "1e9f5050",
   "metadata": {},
   "outputs": [],
   "source": [
    "fig = make_subplots(specs=[[{\"secondary_y\": True}]])\n",
    "\n",
    "fig.add_trace(go.Scatter(x=pl_trends_new.index, y=pl_trends_new['new_vaccinations_smoothed'], name=\"New vaccinations smoothed\",\n",
    "                    line_shape='linear', line=dict(color=\"navy\")))\n",
    "fig.add_trace(go.Scatter(x=pl_trends_new.index, y=pl_trends_new['wakacje koronawirus'], name=\"Search words: Wakacje koronawirus\",\n",
    "                    line_shape='linear', line=dict(color=\"darkgray\")), secondary_y=True)\n",
    "fig.update_traces(mode=\"lines\", hovertemplate='%{y:,}<br>')\n",
    "fig.update_layout(hovermode=\"x\")\n",
    "fig.update_layout(\n",
    "    title_text='<b>New vaccinations vs. wakacje koronawirus keyword<b>',\n",
    "    title_x = 0.5,\n",
    "    titlefont={'size': 30},\n",
    "    title_font_color='black',\n",
    "    paper_bgcolor=background_color,\n",
    "    showlegend=False,\n",
    "    plot_bgcolor='white')\n",
    "\n",
    "fig.show(renderer='notebook')"
   ]
  },
  {
   "cell_type": "markdown",
   "id": "c84fea5c",
   "metadata": {},
   "source": [
    "# 6. Koronawirus a bogactwo i szczęście narodów :)"
   ]
  },
  {
   "cell_type": "code",
   "execution_count": null,
   "id": "3dbc6296",
   "metadata": {},
   "outputs": [],
   "source": [
    "world_data_latest['death_rate'] = world_data_latest['total_deaths'] / world_data_latest['total_cases']\n",
    "\n",
    "vaccinations_data_latest = vaccinations_data[vaccinations_data['date']=='2021-11-26']\n",
    "\n",
    "total_df = vaccinations_data_latest.merge(world_data_latest, on = 'iso_code', suffixes = ('_vacc', '_world'))\n",
    "\n",
    "total_df['log_gdp_per_capita'] = np.log(total_df['gdp_per_capita'])"
   ]
  },
  {
   "cell_type": "code",
   "execution_count": null,
   "id": "2bac90b9",
   "metadata": {},
   "outputs": [],
   "source": [
    "fig  = px.scatter(total_df, y='people_vaccinated_per_hundred_vacc', x='log_gdp_per_capita', color='continent', hover_data=['location'],\n",
    "          labels={\"people_vaccinated_per_hundred_vacc\":\"People vaccinated per hundred\", \n",
    "                                                   \"log_gdp_per_capita\":\"Log GDP per Capita\", \"continent\":\"Continent\", \"location\":\"Location\"})\n",
    "fig.update_layout(\n",
    "    title_text='<b>People vaccinated per hundred vs. Log GDP per Capita<b>',\n",
    "    title_x = 0.5,\n",
    "    titlefont={'size': 30},\n",
    "    title_font_color='black',\n",
    "    paper_bgcolor=background_color,\n",
    "#     showlegend=False,\n",
    "    plot_bgcolor='white')\n",
    "fig.show(renderer='notebook') "
   ]
  },
  {
   "cell_type": "code",
   "execution_count": null,
   "id": "9cfd4b5d",
   "metadata": {},
   "outputs": [],
   "source": [
    "fig = px.scatter(total_df, y='people_vaccinated_per_hundred_vacc', x='human_development_index', color='continent', hover_data=['location'],\n",
    "          labels={\"people_vaccinated_per_hundred_vacc\":\"People vaccinated per hundred\", \n",
    "                                                   \"human_development_index\":\"Human development Index\", \"continent\":\"Continent\", \"location\":\"Location\"})\n",
    "fig.update_layout(\n",
    "    title_text='<b>People vaccinated per hundred vs. Human development index<b>',\n",
    "    title_x = 0.5,\n",
    "    titlefont={'size': 25},\n",
    "    title_font_color='black',\n",
    "    paper_bgcolor=background_color,\n",
    "#     showlegend=False,\n",
    "    plot_bgcolor='white')\n",
    "fig.show(renderer='notebook') "
   ]
  },
  {
   "cell_type": "code",
   "execution_count": null,
   "id": "c818d706",
   "metadata": {},
   "outputs": [],
   "source": [
    "fig = px.scatter(total_df, y='total_deaths_per_million', x='median_age', color='continent', hover_data=['location'],\n",
    "                labels={\"total_deaths_per_million\":\"Total Deaths per Million\", \n",
    "                                                   \"median_age\":\"Median Age\", \"continent\":\"Continent\", \"location\":\"Location\"})\n",
    "fig.update_layout(\n",
    "    title_text='<b>Total deaths per mln vs. Median age<b>',\n",
    "    title_x = 0.5,\n",
    "    titlefont={'size': 30},\n",
    "    title_font_color='black',\n",
    "    paper_bgcolor=background_color,\n",
    "#     showlegend=False,\n",
    "    plot_bgcolor='white')\n",
    "fig.show(renderer='notebook') "
   ]
  },
  {
   "cell_type": "code",
   "execution_count": null,
   "id": "5a8b1968",
   "metadata": {},
   "outputs": [],
   "source": [
    "# Extending the dataset with World Happiness Report 2019\n",
    "total_df_ext = total_df.merge(whr_2019, left_on = 'location', right_on = 'Country')"
   ]
  },
  {
   "cell_type": "code",
   "execution_count": null,
   "id": "256c37cf",
   "metadata": {},
   "outputs": [],
   "source": [
    "fig = px.scatter(total_df_ext, y='people_vaccinated_per_hundred_vacc', x='Trust (Government Corruption)', color='continent', hover_data=['location'],\n",
    "          labels={\"people_vaccinated_per_hundred_vacc\":\"People vaccinated per hundred\", \"continent\":\"Continent\", \"location\":\"Location\"})\n",
    "fig.update_layout(\n",
    "    title_text='<b>People vaccinated per hundred vs. Trust to government<b>',\n",
    "    title_x = 0.5,\n",
    "    titlefont={'size': 30},\n",
    "    title_font_color='black',\n",
    "    paper_bgcolor=background_color,\n",
    "#     showlegend=False,\n",
    "    plot_bgcolor='white')\n",
    "fig.show(renderer='notebook') "
   ]
  },
  {
   "cell_type": "code",
   "execution_count": null,
   "id": "3db6689b",
   "metadata": {},
   "outputs": [],
   "source": [
    "fig, ax = plt.subplots(figsize=(15,7))\n",
    "sns.regplot(x=\"Happiness Score\", y=\"people_vaccinated_per_hundred_vacc\", \n",
    "            data = total_df_ext,\n",
    "           scatter_kws={\"color\": \"darkgray\"}, line_kws={\"color\": \"navy\"}).set_title('People vaccinated per hundred vs. Hapiness score',\n",
    "                                                                                                       fontsize=30)\n",
    "ax.set_ylabel('People vaccinated per hundred')\n",
    "plt.show()"
   ]
  },
  {
   "cell_type": "code",
   "execution_count": null,
   "id": "017810cd",
   "metadata": {},
   "outputs": [],
   "source": [
    "fig, ax = plt.subplots(figsize=(15,7))\n",
    "sns.regplot(x=\"Economy (GDP per Capita)\", y=\"Happiness Score\", data = total_df_ext,\n",
    "           scatter_kws={\"color\": \"darkgray\"}, line_kws={\"color\": \"navy\"}).set_title('Hapiness score vs. GDP per capita',\n",
    "                                                                                                       fontsize=30)\n",
    "\n",
    "plt.show()"
   ]
  },
  {
   "cell_type": "markdown",
   "id": "f98bbaed",
   "metadata": {},
   "source": [
    "# 7. Modelowanie i prognoza nowych zachorowań"
   ]
  },
  {
   "cell_type": "code",
   "execution_count": null,
   "id": "bc52b9a2",
   "metadata": {},
   "outputs": [],
   "source": [
    "## form the figure\n",
    "fig, ax = plt.subplots(figsize=(12,9), facecolor=background_color)\n",
    "ax.plot(daily_case.date, daily_case.new_cases, color='navy', alpha=0.6)\n",
    "\n",
    "ax.set_xlabel('Date')\n",
    "ax.set_ylabel('Infection')\n",
    "ax.legend(facecolor=background_color, framealpha=0, loc='upper right', bbox_to_anchor=(0.95, 1))\n",
    "\n",
    "\n",
    "## title and subtitle and date\n",
    "fig.text(0.055,1.02,'New cases in Poland',fontsize=40,fontweight='bold')\n",
    "\n",
    "# Removing axis and spines\n",
    "for s in ['top', 'right', 'bottom', 'left']:\n",
    "    ax.spines[s].set_visible(False) \n",
    "\n",
    "# remove y ticks\n",
    "ax.tick_params(axis=u'both', which=u'both',length=0)\n",
    "\n",
    "ax.set_facecolor(background_color)\n",
    "\n",
    "plt.show()\n"
   ]
  },
  {
   "cell_type": "code",
   "execution_count": null,
   "id": "01ad486e",
   "metadata": {},
   "outputs": [],
   "source": [
    "# Create a series with new cases in Poland\n",
    "pl_series_new_cases = pl_stats['new_cases']\n",
    "\n",
    "pl_series_new_cases.dropna(inplace = True)\n",
    "\n",
    "pl_series_new_cases = pl_series_new_cases.reset_index()"
   ]
  },
  {
   "cell_type": "code",
   "execution_count": null,
   "id": "b689dbbb",
   "metadata": {},
   "outputs": [],
   "source": [
    "pl_series_new_cases['date_orig'] = pl_series_new_cases['date']"
   ]
  },
  {
   "cell_type": "code",
   "execution_count": null,
   "id": "61c32d34",
   "metadata": {},
   "outputs": [],
   "source": [
    "pl_series_new_cases['date'] = pl_series_new_cases['date'].map(dt.datetime.toordinal)\n",
    "pl_series_new_cases['date'] = pl_series_new_cases['date'] - pl_series_new_cases['date'].loc[0]"
   ]
  },
  {
   "cell_type": "markdown",
   "id": "831c4a91",
   "metadata": {},
   "source": [
    "## SARIMA model - long forecast (30 day)\n",
    "#### SARIMA = Seasonal Autoregressive Integrated Moving Average"
   ]
  },
  {
   "cell_type": "code",
   "execution_count": null,
   "id": "d1e83161",
   "metadata": {},
   "outputs": [],
   "source": [
    "train_ml = pl_series_new_cases.iloc[:(pl_series_new_cases.shape[0] - 30)]\n",
    "valid_ml = pl_series_new_cases.iloc[(pl_series_new_cases.shape[0] - 30):]"
   ]
  },
  {
   "cell_type": "code",
   "execution_count": null,
   "id": "429d09a2",
   "metadata": {},
   "outputs": [],
   "source": [
    "model_sarima= auto_arima(train_ml[\"new_cases\"],trace=True, error_action='ignore', start_p=0,start_q=0,max_p=3,max_q=3, m = 7,\n",
    "                   suppress_warnings=True,stepwise=False,seasonal=True)\n",
    "model_sarima.fit(train_ml[\"new_cases\"])"
   ]
  },
  {
   "cell_type": "code",
   "execution_count": null,
   "id": "b0823854",
   "metadata": {},
   "outputs": [],
   "source": [
    "prediction_sarima=model_sarima.predict(len(valid_ml))\n",
    "print(\"Root Mean Square Error for 30-day SARIMA Model: \",np.sqrt(mean_squared_error(valid_ml['new_cases'],prediction_sarima)))"
   ]
  },
  {
   "cell_type": "code",
   "execution_count": null,
   "id": "1996a5da",
   "metadata": {},
   "outputs": [],
   "source": [
    "fig=go.Figure()\n",
    "fig.add_trace(go.Scatter(x=train_ml['date_orig'], y=train_ml[\"new_cases\"],\n",
    "                    mode='lines',name=\"Train Data for Confirmed Cases\", line=dict(color=\"navy\")))\n",
    "fig.add_trace(go.Scatter(x=valid_ml['date_orig'], y=valid_ml['new_cases'],\n",
    "                     mode='lines',name=\"Validation Data for Confirmed Cases\",))\n",
    "fig.add_trace(go.Scatter(x=valid_ml['date_orig'], y=prediction_sarima,\n",
    "                     mode='lines',name=\"Prediction of Confirmed Cases\",))\n",
    "fig.update_layout(xaxis_title=\"Date\",yaxis_title=\"Confirmed Cases\",legend=dict(x=0,y=1,traceorder=\"normal\"))\n",
    "fig.update_layout(\n",
    "    title_text='<b>Confirmed Cases SARIMA Model 30-day Prediction<b>',\n",
    "    title_x = 0.5,\n",
    "    titlefont={'size': 25},\n",
    "    title_font_color='black',\n",
    "    paper_bgcolor=background_color,\n",
    "    plot_bgcolor='white')\n",
    "fig.show(renderer='notebook')"
   ]
  },
  {
   "cell_type": "markdown",
   "id": "6e770ede",
   "metadata": {},
   "source": [
    "## SARIMA model - short forecast (7 day)"
   ]
  },
  {
   "cell_type": "code",
   "execution_count": null,
   "id": "14eeabe1",
   "metadata": {},
   "outputs": [],
   "source": [
    "train_ml=pl_series_new_cases.iloc[:(pl_series_new_cases.shape[0] - 7)]\n",
    "valid_ml=pl_series_new_cases.iloc[(pl_series_new_cases.shape[0] - 7):]"
   ]
  },
  {
   "cell_type": "code",
   "execution_count": null,
   "id": "7c619a2f",
   "metadata": {},
   "outputs": [],
   "source": [
    "model_sarima= auto_arima(train_ml[\"new_cases\"],trace=True, error_action='ignore', start_p=0,start_q=0,max_p=3,max_q=3, m = 7,\n",
    "                   suppress_warnings=True,stepwise=False,seasonal=True)\n",
    "model_sarima.fit(train_ml[\"new_cases\"])"
   ]
  },
  {
   "cell_type": "code",
   "execution_count": null,
   "id": "41709a04",
   "metadata": {},
   "outputs": [],
   "source": [
    "prediction_sarima=model_sarima.predict(len(valid_ml))\n",
    "print(\"Root Mean Square Error for 7-day SARIMA Model: \",np.sqrt(mean_squared_error(valid_ml['new_cases'],prediction_sarima)))"
   ]
  },
  {
   "cell_type": "code",
   "execution_count": null,
   "id": "bc3066a9",
   "metadata": {},
   "outputs": [],
   "source": [
    "fig=go.Figure()\n",
    "fig.add_trace(go.Scatter(x=train_ml['date_orig'], y=train_ml[\"new_cases\"],\n",
    "                    mode='lines',name=\"Train Data for Confirmed Cases\", line=dict(color=\"navy\")))\n",
    "fig.add_trace(go.Scatter(x=valid_ml['date_orig'], y=valid_ml['new_cases'],\n",
    "                     mode='lines',name=\"Validation Data for Confirmed Cases\",))\n",
    "fig.add_trace(go.Scatter(x=valid_ml['date_orig'], y=prediction_sarima,\n",
    "                     mode='lines',name=\"Prediction of Confirmed Cases\",))\n",
    "fig.update_layout(xaxis_title=\"Date\",yaxis_title=\"Confirmed Cases\",legend=dict(x=0,y=1,traceorder=\"normal\"))\n",
    "fig.update_layout(\n",
    "    title_text='<b>Confirmed Cases SARIMA Model 7-day Prediction<b>',\n",
    "    title_x = 0.5,\n",
    "    titlefont={'size': 25},\n",
    "    title_font_color='black',\n",
    "    paper_bgcolor=background_color,\n",
    "    plot_bgcolor='white')\n",
    "fig.show(renderer='notebook')"
   ]
  },
  {
   "cell_type": "markdown",
   "id": "e7fdcdb2",
   "metadata": {},
   "source": [
    "# 8. Q&A"
   ]
  },
  {
   "cell_type": "markdown",
   "id": "16aaf0bb",
   "metadata": {},
   "source": [
    "![Thank You](https://tse3.mm.bing.net/th?id=OIP.7p-gmqQqDuoFYpQze14AOQHaDu&pid=Api)"
   ]
  },
  {
   "cell_type": "markdown",
   "id": "8853c5c2",
   "metadata": {},
   "source": [
    "# 9. Z czego korzystaliśmy"
   ]
  },
  {
   "cell_type": "markdown",
   "id": "0bab60e5",
   "metadata": {},
   "source": [
    "https://www.kaggle.com/sandeep2812/covid19-case-study-dailyupdated-hopking-university<br>\n",
    "https://www.kaggle.com/jaimebecerraguerrero/is-a-vaccinated-country-a-happy-one-data-analysis<br>\n",
    "https://www.kaggle.com/pranjalverma08/covid-19-in-depth-analysis<br>\n",
    "https://www.kaggle.com/jhnyc3/hong-kong-covid-19-data-visualization<br>\n",
    "https://www.kaggle.com/imdevskp/covid-19-analysis-visualization-comparisons#Bubble-Plot<br>\n",
    "https://www.kaggle.com/neelkudu28/covid-19-visualizations-predictions-forecasting/notebook<br>\n",
    "https://www.kaggle.com/jaimebecerraguerrero/is-a-vaccinated-country-a-happy-one-data-analysis<br>\n",
    "https://plotly.com/<br>\n",
    "https://matplotlib.org/<br>\n",
    "https://trends.google.com/trends/"
   ]
  }
 ],
 "metadata": {
  "kernelspec": {
   "display_name": "conda_python3",
   "language": "python",
   "name": "conda_python3"
  },
  "language_info": {
   "codemirror_mode": {
    "name": "ipython",
    "version": 3
   },
   "file_extension": ".py",
   "mimetype": "text/x-python",
   "name": "python",
   "nbconvert_exporter": "python",
   "pygments_lexer": "ipython3",
   "version": "3.6.13"
  }
 },
 "nbformat": 4,
 "nbformat_minor": 5
}
